{
  "cells": [
    {
      "cell_type": "markdown",
      "metadata": {
        "id": "IWSDN0kpER2f"
      },
      "source": [
        "# Task. Karatsuba algorithm for fast multiplication"
      ]
    },
    {
      "cell_type": "code",
      "execution_count": null,
      "metadata": {
        "id": "eDR1vbRxER2k",
        "outputId": "50b2226f-a482-46a9-b1df-640e0e26cd09"
      },
      "outputs": [
        {
          "name": "stdout",
          "output_type": "stream",
          "text": [
            "40\n"
          ]
        }
      ],
      "source": [
        "def karatsuba(x,y):\n",
        "    if len(str(x)) == 1 or len(str(y)) == 1:\n",
        "        return x*y\n",
        "    else:\n",
        "        n = max(len(str(x)),len(str(y)))\n",
        "        nby2 = n / 2\n",
        "        a = x / 10**(nby2)\n",
        "        b = x % 10**(nby2)\n",
        "        c = y / 10**(nby2)\n",
        "        d = y % 10**(nby2)\n",
        "        ac = karatsuba(a,c)\n",
        "        bd = karatsuba(b,d)\n",
        "        ad_plus_bc = karatsuba(a+b,c+d) - ac - bd\n",
        "        prod = ac * 10**(2*nby2) + (ad_plus_bc * 10**nby2) + bd\n",
        "        return prod\n",
        "print(karatsuba(4,10))  "
      ]
    },
    {
      "cell_type": "markdown",
      "metadata": {
        "id": "pJu3BktdER2o"
      },
      "source": [
        "# Task. Fractional Knapsack Problem"
      ]
    },
    {
      "cell_type": "code",
      "execution_count": null,
      "metadata": {
        "id": "h2fplGoWER2o",
        "outputId": "638383fd-2a94-4576-b30e-ff99fc15b07a"
      },
      "outputs": [
        {
          "data": {
            "text/plain": [
              "240.0"
            ]
          },
          "execution_count": 10,
          "metadata": {},
          "output_type": "execute_result"
        }
      ],
      "source": [
        "import numpy as np\n",
        "def kp_fraction(l,w):\n",
        "    totalValue=0\n",
        "    for i in range(len(l)):\n",
        "        if w==0:\n",
        "            break\n",
        "        if l[i][1]<=w:\n",
        "            totalValue+=l[i][1]*l[i][0]\n",
        "            w-=l[i][1]\n",
        "        else:\n",
        "            totalValue+=w*l[i][0]\n",
        "            w=0\n",
        "    return totalValue\n",
        "\n",
        "w=50\n",
        "value=np.array([60,100,120])\n",
        "weight=np.array([10,20,30])\n",
        "valuePerUnit=value/weight\n",
        "valuesSorted=sorted(zip(valuePerUnit,weight,value),reverse=True)\n",
        "\n",
        "kp_fraction(valuesSorted,w)\n"
      ]
    },
    {
      "cell_type": "code",
      "execution_count": null,
      "metadata": {
        "id": "74v52LPeER2p",
        "outputId": "c74edc0d-c2ae-4acf-f66d-ac044cc0df56"
      },
      "outputs": [
        {
          "data": {
            "text/plain": [
              "[(6.0, 10, 60), (5.0, 20, 100), (4.0, 30, 120)]"
            ]
          },
          "execution_count": 11,
          "metadata": {},
          "output_type": "execute_result"
        }
      ],
      "source": [
        "valuesSorted"
      ]
    },
    {
      "cell_type": "code",
      "execution_count": null,
      "metadata": {
        "id": "3BkSu2tGER2q"
      },
      "outputs": [],
      "source": [
        "class KnapsackPackage(object): \n",
        "      \n",
        "    \n",
        "    def __init__(self, weight, value): \n",
        "        self.weight = weight \n",
        "        self.value = value \n",
        "        self.cost = value / weight \n",
        "  \n",
        "    def __lt__(self, other): \n",
        "        return self.cost < other.cost"
      ]
    },
    {
      "cell_type": "code",
      "execution_count": null,
      "metadata": {
        "id": "UFqaVLPEER2q"
      },
      "outputs": [],
      "source": [
        "class FractionalKnapsack(object):\n",
        "    \n",
        "        \n",
        "    def knapsackGreProc(self, W, V, M, n):\n",
        "        packs = []\n",
        "        for i in range(n): \n",
        "            packs.append(KnapsackPackage(W[i], V[i]))\n",
        "            \n",
        "        packs.sort(reverse = True)\n",
        "        \n",
        "        remain = M\n",
        "        result = 0\n",
        "        \n",
        "        i = 0\n",
        "        stopProc = False\n",
        "        \n",
        "        while (stopProc != True):\n",
        "            if (packs[i].weight <= remain):\n",
        "                remain -= packs[i].weight;\n",
        "                result += packs[i].value;\n",
        "                \n",
        "                print(\"Pack \", i, \" - Weight \", packs[i].weight, \" - Value \", packs[i].value)\n",
        "            \n",
        "            if (packs[i].weight > remain):\n",
        "                i += 1\n",
        "                \n",
        "            if (i == n):\n",
        "                stopProc = True            \n",
        "        \n",
        "        print(\"Max Value:\\t\", result)"
      ]
    },
    {
      "cell_type": "code",
      "execution_count": null,
      "metadata": {
        "id": "fp60YzcrER2r",
        "outputId": "12bf631c-7494-4ee0-d4cc-77648e0fe55c"
      },
      "outputs": [
        {
          "name": "stdout",
          "output_type": "stream",
          "text": [
            "Pack  0  - Weight  10  - Value  25\n",
            "Pack  0  - Weight  10  - Value  25\n",
            "Pack  0  - Weight  10  - Value  25\n",
            "Pack  2  - Weight  4  - Value  6\n",
            "Pack  3  - Weight  2  - Value  2\n",
            "Max Value:\t 83\n"
          ]
        }
      ],
      "source": [
        "if __name__ == \"__main__\": \n",
        "    W = [15, 10, 2, 4] \n",
        "    V = [30, 25, 2, 6] \n",
        "    M = 37\n",
        "    n = 4\n",
        "    \n",
        "    proc = FractionalKnapsack()\n",
        "    proc.knapsackGreProc(W, V, M, n)"
      ]
    },
    {
      "cell_type": "markdown",
      "metadata": {
        "id": "hzT9kQhOER2s"
      },
      "source": [
        "# Task. Money Change Problem"
      ]
    },
    {
      "cell_type": "code",
      "execution_count": null,
      "metadata": {
        "id": "OP-IThNqER2t",
        "outputId": "af42eaf5-a649-4a82-9720-96e3b4137f1a"
      },
      "outputs": [
        {
          "name": "stdout",
          "output_type": "stream",
          "text": [
            "4\n"
          ]
        }
      ],
      "source": [
        "def count(S, m, n ):\n",
        "    if (n == 0):\n",
        "        return 1\n",
        "    if (n < 0):\n",
        "        return 0\n",
        "    if (m <=0 and n >= 1):\n",
        "        return 0\n",
        "\n",
        "    return count( S, m - 1, n ) + count( S, m, n-S[m-1] );\n",
        " \n",
        "arr = [1, 2, 3]\n",
        "m = len(arr)\n",
        "print(count(arr, m, 4))"
      ]
    },
    {
      "cell_type": "code",
      "execution_count": null,
      "metadata": {
        "id": "jcIPYR1VER2u",
        "outputId": "c28ab6a3-ee2c-458e-9e39-df38b6267282"
      },
      "outputs": [
        {
          "name": "stdout",
          "output_type": "stream",
          "text": [
            "4\n"
          ]
        }
      ],
      "source": [
        "import numpy as np\n",
        "def money(l,n,amount):\n",
        "    if n==0 or amount==0:\n",
        "        return np.inf\n",
        "    if l[n-1]==amount:\n",
        "        return 1\n",
        "    if l[n-1]<amount:\n",
        "        return min(money(l,n,amount-l[n-1])+1,money(l,n-1,amount-l[n-1])+1,money(l,n-1,amount))\n",
        "        \n",
        "    else:\n",
        "        return money(l,n-1,amount)\n",
        "    \n",
        "    \n",
        "l=[1,2,3]\n",
        "n=len(l)\n",
        "m=10\n",
        "sol=money(l,n,m)\n",
        "if sol==np.inf:\n",
        "    print(-1)\n",
        "else:\n",
        "    print(sol)"
      ]
    },
    {
      "cell_type": "markdown",
      "metadata": {
        "id": "mPvzN04yER2v"
      },
      "source": [
        "# Edit Distance"
      ]
    },
    {
      "cell_type": "code",
      "execution_count": null,
      "metadata": {
        "id": "7G5MwoBUER2v",
        "outputId": "84a220c9-6b10-4a6a-c4bf-00626876ad21"
      },
      "outputs": [
        {
          "name": "stdout",
          "output_type": "stream",
          "text": [
            "3\n"
          ]
        }
      ],
      "source": [
        " \n",
        "def editDistDP(str1, str2, m, n):\n",
        "    \n",
        "    dp = [[0 for x in range(n + 1)] for x in range(m + 1)]\n",
        " \n",
        "    \n",
        "    for i in range(m + 1):\n",
        "        for j in range(n + 1):\n",
        "\n",
        "            if i == 0:\n",
        "                dp[i][j] = j    \n",
        " \n",
        "            elif j == 0:\n",
        "                dp[i][j] = i   \n",
        "            elif str1[i-1] == str2[j-1]:\n",
        "                dp[i][j] = dp[i-1][j-1]\n",
        "            else:\n",
        "                dp[i][j] = 1 + min(dp[i][j-1],        # Insert\n",
        "                                   dp[i-1][j],        # Remove\n",
        "                                   dp[i-1][j-1])    # Replace\n",
        " \n",
        "    return dp[m][n]\n",
        " \n",
        " \n",
        "\n",
        "str1 = \"short\"\n",
        "str2 = \"ports\"\n",
        " \n",
        "print(editDistDP(str1, str2, len(str1), len(str2)))"
      ]
    },
    {
      "cell_type": "markdown",
      "metadata": {
        "id": "aeCIwJAiER2w"
      },
      "source": [
        "# Longest Common Subsequence of Two Sequences"
      ]
    },
    {
      "cell_type": "code",
      "execution_count": null,
      "metadata": {
        "id": "5BBxMh1TER2w",
        "outputId": "20041ab5-a5af-4455-ba0e-c8e10a39a688"
      },
      "outputs": [
        {
          "name": "stdout",
          "output_type": "stream",
          "text": [
            "Length of LCS is  4\n"
          ]
        }
      ],
      "source": [
        "def lcs(X, Y):\n",
        "    \n",
        "    m = len(X)\n",
        "    n = len(Y)\n",
        "    L = [[None]*(n + 1) for i in range(m + 1)]\n",
        "    for i in range(m + 1):\n",
        "        for j in range(n + 1):\n",
        "            if i == 0 or j == 0 :\n",
        "                L[i][j] = 0\n",
        "            elif X[i-1] == Y[j-1]:\n",
        "                L[i][j] = L[i-1][j-1]+1\n",
        "            else:\n",
        "                L[i][j] = max(L[i-1][j], L[i][j-1])\n",
        "  \n",
        "    \n",
        "    return L[m][n]\n",
        "\n",
        "X = \"AGGTAB\"\n",
        "Y = \"GXTXAYB\"\n",
        "print(\"Length of LCS is \", lcs(X, Y))"
      ]
    },
    {
      "cell_type": "markdown",
      "metadata": {
        "id": "MmBwLzvdER2x"
      },
      "source": [
        "# 0-1 Knapsack Problem"
      ]
    },
    {
      "cell_type": "code",
      "execution_count": null,
      "metadata": {
        "id": "JPLUC4AZER2x",
        "outputId": "7eebaf87-ccaf-4a3d-c69b-fa97b3a70968"
      },
      "outputs": [
        {
          "name": "stdout",
          "output_type": "stream",
          "text": [
            "220\n"
          ]
        }
      ],
      "source": [
        "def knapSack(W, wt, val, n):\n",
        "    K = [[0 for x in range(W + 1)] for x in range(n + 1)]\n",
        "  \n",
        "    # Build table K[][] in bottom up manner\n",
        "    for i in range(n + 1):\n",
        "        for w in range(W + 1):\n",
        "            if i == 0 or w == 0:\n",
        "                K[i][w] = 0\n",
        "            elif wt[i-1] <= w:\n",
        "                K[i][w] = max(val[i-1] + K[i-1][w-wt[i-1]],  K[i-1][w])\n",
        "            else:\n",
        "                K[i][w] = K[i-1][w]\n",
        "  \n",
        "    return K[n][W]\n",
        "  \n",
        "\n",
        "val = [60, 100, 120]\n",
        "wt = [10, 20, 30]\n",
        "W = 50\n",
        "n = len(val)\n",
        "print(knapSack(W, wt, val, n))"
      ]
    },
    {
      "cell_type": "code",
      "execution_count": null,
      "metadata": {
        "id": "WZzOAhhcER2y"
      },
      "outputs": [],
      "source": [
        ""
      ]
    }
  ],
  "metadata": {
    "kernelspec": {
      "display_name": "Python 3",
      "language": "python",
      "name": "python3"
    },
    "language_info": {
      "codemirror_mode": {
        "name": "ipython",
        "version": 3
      },
      "file_extension": ".py",
      "mimetype": "text/x-python",
      "name": "python",
      "nbconvert_exporter": "python",
      "pygments_lexer": "ipython3",
      "version": "3.8.5"
    },
    "colab": {
      "name": "HW3-Ayat Ahmed AbdElmonem.ipynb",
      "provenance": []
    }
  },
  "nbformat": 4,
  "nbformat_minor": 0
}