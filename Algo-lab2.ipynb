{
  "cells": [
    {
      "cell_type": "markdown",
      "metadata": {
        "id": "luzCVUtPD_KR"
      },
      "source": [
        "# 1 Binary Search"
      ]
    },
    {
      "cell_type": "code",
      "execution_count": null,
      "metadata": {
        "id": "eAyiRPRsD_KX",
        "outputId": "c6de3bf1-b76b-4bc4-c01e-f076e2b1feae"
      },
      "outputs": [
        {
          "name": "stdout",
          "output_type": "stream",
          "text": [
            "[2, 0, -1]\n"
          ]
        }
      ],
      "source": [
        "def binary_search(ls, ls2):\n",
        "    item_list = sorted(ls)\n",
        "    first = 0\n",
        "    last = len(item_list) - 1\n",
        "    found = False\n",
        "    out = []\n",
        "    for x in ls2:\n",
        "        while (first <= last and not found):\n",
        "            mid = (first + last) // 2\n",
        "            if item_list[mid] == x:\n",
        "                a = item_list.index(x)\n",
        "                out.append(a)\n",
        "                found = True\n",
        "            else:\n",
        "                if x < item_list[mid]:\n",
        "                    last = mid - 1\n",
        "                else:\n",
        "                    first = mid + 1\n",
        "        if found == False:\n",
        "            out.append(-1)\n",
        "\n",
        "        found = False\n",
        "    return out\n",
        "\n",
        "print(binary_search([1,5,8,12,13], [8,1,32]))\n"
      ]
    },
    {
      "cell_type": "markdown",
      "metadata": {
        "id": "wawAbSvED_Ka"
      },
      "source": [
        "# 2 Merge Sort"
      ]
    },
    {
      "cell_type": "code",
      "execution_count": null,
      "metadata": {
        "id": "dne-Wtn7D_Kb",
        "outputId": "e0624048-4b37-427f-8c85-06e98a227e25"
      },
      "outputs": [
        {
          "name": "stdout",
          "output_type": "stream",
          "text": [
            "[3, 9, 10, 27, 38, 43, 82]\n"
          ]
        }
      ],
      "source": [
        "def merge(list):\n",
        "    if len(list) > 1:\n",
        "        mid = len(list)//2\n",
        "        left = list[:mid]\n",
        "        right = list[mid:]\n",
        "\n",
        "        merge(left)\n",
        "        merge(right)\n",
        "\n",
        "        i=0\n",
        "        j=0\n",
        "        k=0\n",
        "\n",
        "        while(i< len(left) and j < len(right)):\n",
        "            if left[i] <= right[j]:\n",
        "                list[k]= left[i]\n",
        "                i+=1\n",
        "            else:\n",
        "                list[k]= right[j]\n",
        "                j+=1\n",
        "            k+=1\n",
        "\n",
        "        while(i<len(left)):\n",
        "            list[k]=left[i]\n",
        "            i+=1\n",
        "            k+=1\n",
        "\n",
        "        while(j<len(right)):\n",
        "            list[k]=right[j]\n",
        "            j+=1\n",
        "            k+=1\n",
        "ls=[38,27,43,3,9,82,10]\n",
        "merge(ls)\n",
        "print(ls)"
      ]
    },
    {
      "cell_type": "markdown",
      "metadata": {
        "id": "J29PGvuCD_Kc"
      },
      "source": [
        "# 3 Quick Sort"
      ]
    },
    {
      "cell_type": "code",
      "execution_count": null,
      "metadata": {
        "id": "QwtC0aQOD_Kc",
        "outputId": "ca615618-0c27-4422-db40-402f72f57218"
      },
      "outputs": [
        {
          "name": "stdout",
          "output_type": "stream",
          "text": [
            "[-6, -3, 1, 2, 3, 5, 6, 8, 9]\n"
          ]
        }
      ],
      "source": [
        "def pivot(array, start, end):\n",
        "    pivot = array[start]\n",
        "    low = start + 1\n",
        "    high = end\n",
        " \n",
        " \n",
        "    while True:\n",
        "        while low <= high and array[high] >= pivot:\n",
        "            high = high - 1\n",
        "        while low <= high and array[low] <= pivot:\n",
        "            low = low + 1\n",
        "        if low <= high:\n",
        "            array[low], array[high] = array[high], array[low]\n",
        "        else:\n",
        "            break \n",
        "    array[start], array[high] = array[high], array[start]\n",
        "\n",
        "    return high\n",
        " \n",
        "def quick_sort(array, start, end):\n",
        "    if start >= end:\n",
        "        return \n",
        "    p = pivot(array, start, end)\n",
        "\n",
        "    quick_sort(array, start, p-1)\n",
        "\n",
        "    quick_sort(array, p+1, end)\n",
        " \n",
        " \n",
        "array = [9, -3, 5, 2, 6, 8, -6, 1, 3]\n",
        " \n",
        "quick_sort(array, 0, len(array) - 1)\n",
        "print(array)"
      ]
    },
    {
      "cell_type": "markdown",
      "metadata": {
        "id": "0NpTm9i4D_Kd"
      },
      "source": [
        "# 4 Fast Exponentiation"
      ]
    },
    {
      "cell_type": "code",
      "execution_count": null,
      "metadata": {
        "id": "gR1VG6cDD_Ke",
        "outputId": "0198776b-f361-4dc5-eb04-dfc6f59b4e78"
      },
      "outputs": [
        {
          "data": {
            "text/plain": [
              "8"
            ]
          },
          "execution_count": 7,
          "metadata": {},
          "output_type": "execute_result"
        }
      ],
      "source": [
        "def fast(num , power):\n",
        "    if power == 0:\n",
        "        return 1\n",
        "    elif power == 1:\n",
        "        return num\n",
        "    elif power %2 == 0:\n",
        "        return fast(num,power/2)*fast(num,power/2)\n",
        "    else :\n",
        "        return fast(num,(power-1)/2)*fast(num,(power-1)/2)*num\n",
        "    \n",
        "fast(2,3)    "
      ]
    },
    {
      "cell_type": "markdown",
      "metadata": {
        "id": "NaEl6_ayD_Kg"
      },
      "source": [
        "# 5 segments and points"
      ]
    },
    {
      "cell_type": "code",
      "execution_count": null,
      "metadata": {
        "id": "KI8ZJqgRD_Kh"
      },
      "outputs": [],
      "source": [
        "def findPoint(segments,point,start,end):\n",
        "    mid =(start+end)//2\n",
        "    if start>end:\n",
        "        return 0\n",
        "    if segments[mid][0]<=point and segments[mid][1]>=point:\n",
        "        return 1+findPoint(segments,point,start,mid-1)+findPoint(segments,point,mid+1,end)\n",
        "   \n",
        "    return findPoint(segments,point,start,mid-1)+findPoint(segments,point,mid+1,end)\n",
        "\n",
        "\n",
        "\n",
        "s,p=(int(x) for x in input(\"Enter #segments and #points separated by space: \").split(' '))\n",
        "\n",
        "segments=[tuple(map(int,input(\"Enter start of segment and end of segment separated by space: \").split(' '))) for _ in range(s)]\n",
        "points=[int(x) for x in input(\"Enter points separated by space: \").split(' ')]\n",
        "\n",
        "\n",
        "results=[findPoint(segments,point,0,len(segments)-1) for point in points]\n",
        "\n",
        "results"
      ]
    },
    {
      "cell_type": "markdown",
      "metadata": {
        "id": "J610ndamD_Ki"
      },
      "source": [
        "# 6 Majority Element"
      ]
    },
    {
      "cell_type": "code",
      "execution_count": null,
      "metadata": {
        "id": "Gg9fTsRID_Kj"
      },
      "outputs": [],
      "source": [
        "def getMajority(lst):\n",
        "    size=len(lst)\n",
        "    majIndex,count= 0,1\n",
        "    for i in range(1,size):\n",
        "        if lst[majIndex]==lst[i]:\n",
        "            count+=1\n",
        "        else:\n",
        "            count-=1\n",
        "        \n",
        "        if count==0:\n",
        "            majIndex=i\n",
        "            count=1\n",
        "            \n",
        "    return lst[majIndex]\n",
        "\n",
        "def confirmMajority(lst,majority):\n",
        "    count=0\n",
        "    for element in lst:\n",
        "        if element == majority:\n",
        "            count+=1\n",
        "    \n",
        "    if count>len(lst)//2:\n",
        "        return 1\n",
        "    else:\n",
        "        return 0\n",
        "    \n",
        "    \n",
        "\n",
        "    \n",
        "    \n",
        "myList=[int(x) for x in input(\"Enter list separated by space: \").split(' ')]\n",
        "majority=getMajority(myList)\n",
        "print(majority)\n",
        "confirmMajority(myList,majority)"
      ]
    }
  ],
  "metadata": {
    "kernelspec": {
      "display_name": "Python 3",
      "language": "python",
      "name": "python3"
    },
    "language_info": {
      "codemirror_mode": {
        "name": "ipython",
        "version": 3
      },
      "file_extension": ".py",
      "mimetype": "text/x-python",
      "name": "python",
      "nbconvert_exporter": "python",
      "pygments_lexer": "ipython3",
      "version": "3.8.5"
    },
    "colab": {
      "name": "Algo-Ayat Ahmed Abd Elmonem Mohmed.ipynb",
      "provenance": []
    }
  },
  "nbformat": 4,
  "nbformat_minor": 0
}