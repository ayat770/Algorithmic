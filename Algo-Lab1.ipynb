{
  "cells": [
    {
      "cell_type": "markdown",
      "metadata": {
        "id": "LC6krnRkDsfz"
      },
      "source": [
        "# Factorial Iterative\n"
      ]
    },
    {
      "cell_type": "code",
      "execution_count": null,
      "metadata": {
        "id": "vFy0XZu5Dsf5"
      },
      "outputs": [],
      "source": [
        "def iterative_factorial(n):\n",
        "     result= 1\n",
        "    li = list(range(1, n + 1))\n",
        "    for each in li:\n",
        "        result = result * each\n",
        "    return result    "
      ]
    },
    {
      "cell_type": "code",
      "execution_count": null,
      "metadata": {
        "id": "Fioe9nljDsf7",
        "outputId": "ca9a4263-3532-42f7-ff8c-b67ee507d93e"
      },
      "outputs": [
        {
          "data": {
            "text/plain": [
              "120"
            ]
          },
          "execution_count": 108,
          "metadata": {},
          "output_type": "execute_result"
        }
      ],
      "source": [
        "iterative_factorial(5)"
      ]
    },
    {
      "cell_type": "code",
      "execution_count": null,
      "metadata": {
        "id": "DPkPh20nDsf8"
      },
      "outputs": [],
      "source": [
        "Complexity O(n)"
      ]
    },
    {
      "cell_type": "markdown",
      "metadata": {
        "id": "xK_KDMtGDsf9"
      },
      "source": [
        "# Recursive Factorial\n"
      ]
    },
    {
      "cell_type": "code",
      "execution_count": null,
      "metadata": {
        "id": "4B5FZvYbDsf9"
      },
      "outputs": [],
      "source": [
        "def recursive_factorial(n):\n",
        "    if n == 0:\n",
        "        return 1\n",
        "    else:\n",
        "        return n * recursive_factorial(n-1)"
      ]
    },
    {
      "cell_type": "code",
      "execution_count": null,
      "metadata": {
        "id": "v46ZrUM_Dsf-",
        "outputId": "a173364d-33e2-4794-9f24-be23ac05f815"
      },
      "outputs": [
        {
          "data": {
            "text/plain": [
              "120"
            ]
          },
          "execution_count": 110,
          "metadata": {},
          "output_type": "execute_result"
        }
      ],
      "source": [
        "recursive_factorial(5)"
      ]
    },
    {
      "cell_type": "code",
      "execution_count": null,
      "metadata": {
        "id": "42Rc_teBDsf_"
      },
      "outputs": [],
      "source": [
        "Complexity O(n)"
      ]
    },
    {
      "cell_type": "markdown",
      "metadata": {
        "id": "sT3hnUJODsf_"
      },
      "source": [
        "# Fibonacci Iterative\n"
      ]
    },
    {
      "cell_type": "code",
      "execution_count": null,
      "metadata": {
        "id": "FSeVmeKoDsgA"
      },
      "outputs": [],
      "source": [
        "def f(n):\n",
        "    a, b = 0, 1\n",
        "    for i in range(0, n):\n",
        "        a, b = b, a + b\n",
        "    return a"
      ]
    },
    {
      "cell_type": "code",
      "execution_count": null,
      "metadata": {
        "id": "SCi4Y8ULDsgB"
      },
      "outputs": [],
      "source": [
        "Complexity O(n)"
      ]
    },
    {
      "cell_type": "markdown",
      "metadata": {
        "id": "pGzjnZ_nDsgB"
      },
      "source": [
        "# Fibonacci Recursion"
      ]
    },
    {
      "cell_type": "code",
      "execution_count": null,
      "metadata": {
        "id": "sB7K9FSFDsgC"
      },
      "outputs": [],
      "source": [
        "def recur_fibo(n):\n",
        "    if n < 2:\n",
        "        return n\n",
        "    \n",
        "    return recur_fibo(n-1) + recur_fibo(n-2)\n"
      ]
    },
    {
      "cell_type": "code",
      "execution_count": null,
      "metadata": {
        "id": "mljDv5vsDsgC",
        "outputId": "9040bacb-f0f3-4bc1-da56-702346e5d5ff"
      },
      "outputs": [
        {
          "data": {
            "text/plain": [
              "8"
            ]
          },
          "execution_count": 100,
          "metadata": {},
          "output_type": "execute_result"
        }
      ],
      "source": [
        "recur_fibo(6)"
      ]
    },
    {
      "cell_type": "code",
      "execution_count": null,
      "metadata": {
        "id": "2Dpygh3rDsgD"
      },
      "outputs": [],
      "source": [
        "Complexity O(2^n)"
      ]
    },
    {
      "cell_type": "code",
      "execution_count": null,
      "metadata": {
        "tags": [],
        "id": "UDevTrH6DsgD"
      },
      "outputs": [],
      "source": [
        "# Dynamic Programming--> memoization\n",
        "lst = [-1 ] * 60\n",
        "lst[1] = 0\n",
        "lst[2] = 1\n",
        "def recur_fibo(n):\n",
        "    global lst\n",
        "    if lst[n] != -1:\n",
        "        return lst[n]\n",
        "\n",
        "    else:\n",
        "        lst[n] = recur_fibo(n-1) + recur_fibo(n-2)\n",
        "        return lst[n]"
      ]
    },
    {
      "cell_type": "code",
      "execution_count": null,
      "metadata": {
        "id": "zyDv8T-gDsgD",
        "outputId": "617c8966-7994-4e0f-b911-aaf9565e0cde"
      },
      "outputs": [
        {
          "data": {
            "text/plain": [
              "7778742049"
            ]
          },
          "execution_count": 83,
          "metadata": {},
          "output_type": "execute_result"
        }
      ],
      "source": [
        "recur_fibo(50)"
      ]
    },
    {
      "cell_type": "code",
      "execution_count": null,
      "metadata": {
        "id": "rUAYugXzDsgE"
      },
      "outputs": [],
      "source": [
        "complexity O(n)"
      ]
    },
    {
      "cell_type": "markdown",
      "metadata": {
        "id": "a8-xZHbGDsgE"
      },
      "source": [
        "# Iterative Linear Search"
      ]
    },
    {
      "cell_type": "code",
      "execution_count": null,
      "metadata": {
        "id": "mdBzFI_FDsgE",
        "outputId": "53ff88f5-1e17-40ae-da86-33b10ca66025"
      },
      "outputs": [
        {
          "name": "stdout",
          "output_type": "stream",
          "text": [
            "Element is present at index 3\n"
          ]
        }
      ],
      "source": [
        "def search(arr, x):\n",
        "    for i in range(0, len(arr)):\n",
        "        if (arr[i] == x):\n",
        "            return i\n",
        "    return -1\n",
        " \n",
        " \n",
        "\n",
        "arr = [2, 3, 4, 10, 40]\n",
        "x = 10\n",
        "\n",
        "# Function call\n",
        "result = search(arr, x)\n",
        "if(result == -1):\n",
        "    print(\"Element is not present in array\")\n",
        "else:\n",
        "    print(\"Element is present at index\", result)"
      ]
    },
    {
      "cell_type": "code",
      "execution_count": null,
      "metadata": {
        "id": "5Vd-hzPEDsgF"
      },
      "outputs": [],
      "source": [
        "complexity O(n)"
      ]
    },
    {
      "cell_type": "markdown",
      "metadata": {
        "id": "9u8LmeglDsgF"
      },
      "source": [
        "# Recursion linear search"
      ]
    },
    {
      "cell_type": "code",
      "execution_count": null,
      "metadata": {
        "id": "Uz7Pbv0fDsgF"
      },
      "outputs": [],
      "source": [
        "def search(alist, key, pos=None):\n",
        "     if pos is None: \n",
        "        pos = len(alist) - 1\n",
        "     if pos < 0: \n",
        "        return None\n",
        "     if key == alist[pos]: \n",
        "            return pos\n",
        "     return search(alist, key, pos - 1)"
      ]
    },
    {
      "cell_type": "code",
      "execution_count": null,
      "metadata": {
        "id": "pwgrWldsDsgG",
        "outputId": "4461f8c4-7256-4acd-b220-0f1b34087a71"
      },
      "outputs": [
        {
          "data": {
            "text/plain": [
              "2"
            ]
          },
          "execution_count": 124,
          "metadata": {},
          "output_type": "execute_result"
        }
      ],
      "source": [
        "search([1,2,3], 4)  # -> None\n",
        "search([1,2,3], 3)"
      ]
    },
    {
      "cell_type": "code",
      "execution_count": null,
      "metadata": {
        "id": "jzka4FMdDsgG"
      },
      "outputs": [],
      "source": [
        "O(n)"
      ]
    },
    {
      "cell_type": "code",
      "execution_count": null,
      "metadata": {
        "id": "S9Vc_bltDsgG"
      },
      "outputs": [],
      "source": [
        ""
      ]
    },
    {
      "cell_type": "markdown",
      "metadata": {
        "id": "9ZP_lcr6DsgG"
      },
      "source": [
        "# Binary Search Iterative\n",
        "\n",
        "How to perform Linear Search better?"
      ]
    },
    {
      "cell_type": "code",
      "execution_count": null,
      "metadata": {
        "id": "3WI06O6xDsgH",
        "outputId": "922e4780-bc65-4493-f2fc-bc2501dafab0"
      },
      "outputs": [
        {
          "name": "stdout",
          "output_type": "stream",
          "text": [
            "Element found at index 4\n"
          ]
        }
      ],
      "source": [
        "def binarySearch(A, x):\n",
        " \n",
        "    (left, right) = (0, len(A) - 1)\n",
        " \n",
        "    while left <= right:\n",
        "        mid = (left + right) // 2\n",
        "    \n",
        "        # key is found\n",
        "        if x == A[mid]:\n",
        "            return mid\n",
        "        elif x < A[mid]:\n",
        "            right = mid - 1\n",
        "        else:\n",
        "            left = mid + 1\n",
        " \n",
        "    # `x` doesn't exist in the list\n",
        "    return -1\n",
        " \n",
        " \n",
        "if __name__ == '__main__':\n",
        " \n",
        "    A = [2, 5, 6, 8, 9, 10]\n",
        "    key = 9\n",
        " \n",
        "    index = binarySearch(A, key)\n",
        " \n",
        "    if index != -1:\n",
        "        print(\"Element found at index\", index)\n",
        "    else:\n",
        "        print(\"Element found not in the list\")"
      ]
    },
    {
      "cell_type": "code",
      "execution_count": null,
      "metadata": {
        "id": "tU75a94RDsgH"
      },
      "outputs": [],
      "source": [
        "O(log n)"
      ]
    },
    {
      "cell_type": "markdown",
      "metadata": {
        "id": "HaXClgzsDsgH"
      },
      "source": [
        "# Binary Search Recursive"
      ]
    },
    {
      "cell_type": "code",
      "execution_count": null,
      "metadata": {
        "id": "GVNYl8r0DsgH",
        "outputId": "e4c04205-63fd-482b-d566-4da8802f5b35"
      },
      "outputs": [
        {
          "name": "stdout",
          "output_type": "stream",
          "text": [
            "Element found at index 4\n"
          ]
        }
      ],
      "source": [
        "def binarySearch(A, left, right, x):\n",
        " \n",
        "    if left > right:\n",
        "        return -1\n",
        " \n",
        "    mid = (left + right) // 2\n",
        "\n",
        "    if x == A[mid]:\n",
        "        return mid\n",
        "\n",
        "    elif x < A[mid]:\n",
        "        return binarySearch(A, left, mid - 1, x)\n",
        "    else:\n",
        "        return binarySearch(A, mid + 1, right, x)\n",
        " \n",
        " \n",
        "if __name__ == '__main__':\n",
        " \n",
        "    A = [2, 5, 6, 8, 9, 10]\n",
        "    key = 9\n",
        " \n",
        "    (left, right) = (0, len(A) - 1)\n",
        "    index = binarySearch(A, left, right, key)\n",
        " \n",
        "    if index != -1:\n",
        "        print(\"Element found at index\", index)\n",
        "    else:\n",
        "        print(\"Element found not in the list\")\n",
        " "
      ]
    },
    {
      "cell_type": "code",
      "execution_count": null,
      "metadata": {
        "id": "21z9QNISDsgI"
      },
      "outputs": [],
      "source": [
        ""
      ]
    },
    {
      "cell_type": "markdown",
      "metadata": {
        "id": "Q-i3ce_9DsgI"
      },
      "source": [
        "# Insertion sort"
      ]
    },
    {
      "cell_type": "code",
      "execution_count": null,
      "metadata": {
        "id": "fB-ksDKnDsgI",
        "outputId": "de7c3dd5-2ebb-4ccb-d44e-c64c1c495493"
      },
      "outputs": [
        {
          "name": "stdout",
          "output_type": "stream",
          "text": [
            "[-2, 1, 3, 4, 5, 8, 9]\n"
          ]
        }
      ],
      "source": [
        "def insertionSort(A):\n",
        " \n",
        "    for i in range(1, len(A)):\n",
        " \n",
        "        value = A[i]\n",
        "        j = i\n",
        "\n",
        "        while j > 0 and A[j - 1] > value:\n",
        "            A[j] = A[j - 1]\n",
        "            j = j - 1\n",
        " \n",
        "        A[j] = value\n",
        " \n",
        " \n",
        "if __name__ == '__main__':\n",
        " \n",
        "    A = [3, 8, 5, 4, 1, 9, -2]\n",
        " \n",
        "    insertionSort(A)\n",
        " \n",
        "    print(A)\n",
        " "
      ]
    },
    {
      "cell_type": "code",
      "execution_count": null,
      "metadata": {
        "id": "Ir9CyJgJDsgJ"
      },
      "outputs": [],
      "source": [
        ""
      ]
    },
    {
      "cell_type": "markdown",
      "metadata": {
        "id": "kI5p1TeXDsgJ"
      },
      "source": [
        "# Insertion Sort Recursion"
      ]
    },
    {
      "cell_type": "code",
      "execution_count": null,
      "metadata": {
        "id": "h4TiQX10DsgK",
        "outputId": "c51d012b-28af-4f80-96c5-e4d6cce3b8c5"
      },
      "outputs": [
        {
          "name": "stdout",
          "output_type": "stream",
          "text": [
            "[-2, 1, 3, 4, 5, 8, 9]\n"
          ]
        }
      ],
      "source": [
        "def insertionSort(A, i, n):\n",
        " \n",
        "    value = A[i]\n",
        "    j = i\n",
        "\n",
        "    while j > 0 and A[j - 1] > value:\n",
        "        A[j] = A[j - 1]\n",
        "        j = j - 1\n",
        " \n",
        "    A[j] = value\n",
        " \n",
        "    if i + 1 <= n:\n",
        "        insertionSort(A, i + 1, n)\n",
        " \n",
        " \n",
        "if __name__ == '__main__':\n",
        " \n",
        "    A = [3, 8, 5, 4, 1, 9, -2]\n",
        " \n",
        "    insertionSort(A, 1, len(A) - 1)\n",
        " \n",
        "    print(A)"
      ]
    },
    {
      "cell_type": "code",
      "execution_count": null,
      "metadata": {
        "id": "dPBozvXeDsgK"
      },
      "outputs": [],
      "source": [
        "worst O(n^2)\n",
        "best O(n)"
      ]
    },
    {
      "cell_type": "code",
      "execution_count": null,
      "metadata": {
        "id": "nzm0KlzeDsgL"
      },
      "outputs": [],
      "source": [
        ""
      ]
    },
    {
      "cell_type": "code",
      "execution_count": null,
      "metadata": {
        "id": "Mehk0T7RDsgL"
      },
      "outputs": [],
      "source": [
        ""
      ]
    },
    {
      "cell_type": "markdown",
      "metadata": {
        "id": "sxfbJwquDsgL"
      },
      "source": [
        "# Bubble sort"
      ]
    },
    {
      "cell_type": "code",
      "execution_count": null,
      "metadata": {
        "id": "ZBXFdn_fDsgL",
        "outputId": "043f6106-3031-4668-d4ee-adda24b95ffe"
      },
      "outputs": [
        {
          "name": "stdout",
          "output_type": "stream",
          "text": [
            "[-2, 1, 3, 4, 5, 8, 9]\n"
          ]
        }
      ],
      "source": [
        "def swap(A, i, j):\n",
        " \n",
        "    temp = A[i]\n",
        "    A[i] = A[j]\n",
        "    A[j] = temp\n",
        " \n",
        " \n",
        "def bubbleSort(A):\n",
        " \n",
        "    # `len(A)-1` passes\n",
        "    for k in range(len(A) - 1):\n",
        "        for i in range(len(A) - 1 - k):\n",
        "            if A[i] > A[i + 1]:\n",
        "                swap(A, i, i + 1) \n",
        " \n",
        "if __name__ == '__main__':\n",
        " \n",
        "    A = [3, 5, 8, 4, 1, 9, -2]\n",
        " \n",
        "    bubbleSort(A)\n",
        " \n",
        "    print(A)"
      ]
    },
    {
      "cell_type": "code",
      "execution_count": null,
      "metadata": {
        "id": "4BlsNnveDsgL"
      },
      "outputs": [],
      "source": [
        ""
      ]
    },
    {
      "cell_type": "markdown",
      "metadata": {
        "id": "vbuRoD8-DsgL"
      },
      "source": [
        "# Bubble Sort Recursion"
      ]
    },
    {
      "cell_type": "code",
      "execution_count": null,
      "metadata": {
        "id": "FceWshFaDsgM"
      },
      "outputs": [],
      "source": [
        "def swap(A, i, j):\n",
        " \n",
        "    temp = A[i]\n",
        "    A[i] = A[j]\n",
        "    A[j] = temp\n",
        " \n",
        " \n",
        "def bubbleSort(A, n):\n",
        " \n",
        "    for i in range(n - 1):\n",
        "        if A[i] > A[i + 1]:\n",
        "            swap(A, i, i + 1)\n",
        " \n",
        "    if n - 1 > 1:\n",
        "        bubbleSort(A, n - 1)\n",
        " \n",
        " \n",
        "if __name__ == '__main__':\n",
        " \n",
        "    A = [ 3, 5, 8, 4, 1, 9, -2 ]\n",
        " \n",
        "    bubbleSort(A, len(A))\n",
        " \n",
        "    # print the sorted list\n",
        "    print(A)"
      ]
    },
    {
      "cell_type": "code",
      "execution_count": null,
      "metadata": {
        "id": "lQDs8W_iDsgM"
      },
      "outputs": [],
      "source": [
        "The worst-case time complexity of bubble sort is o(n^2)\n",
        ", where n  is the size of the input. The worst case happens when the array is reverse sorted. The best-case time complexity of bubble sort is O(n). \n",
        "The best case happens when the array is already sorted, and the algorithm is modified to stop running when the inner loop didn’t do any swap. "
      ]
    },
    {
      "cell_type": "code",
      "execution_count": null,
      "metadata": {
        "id": "AIkYRWYoDsgM"
      },
      "outputs": [],
      "source": [
        ""
      ]
    },
    {
      "cell_type": "markdown",
      "metadata": {
        "id": "N44PFyFODsgM"
      },
      "source": [
        "# Q 7 GCD\n"
      ]
    },
    {
      "cell_type": "code",
      "execution_count": null,
      "metadata": {
        "id": "G3biKmlwDsgN"
      },
      "outputs": [],
      "source": [
        "def gcd(a,b):\n",
        "    if b ==0:\n",
        "        return a\n",
        "    return gcd(b, a%b)"
      ]
    },
    {
      "cell_type": "code",
      "execution_count": null,
      "metadata": {
        "id": "LVcK55HvDsgN",
        "outputId": "60c44c0e-18d1-494a-ad65-fac4395a24c9"
      },
      "outputs": [
        {
          "data": {
            "text/plain": [
              "2"
            ]
          },
          "execution_count": 93,
          "metadata": {},
          "output_type": "execute_result"
        }
      ],
      "source": [
        "gcd(10, 4)"
      ]
    },
    {
      "cell_type": "code",
      "execution_count": null,
      "metadata": {
        "id": "HIz5bxh8DsgN"
      },
      "outputs": [],
      "source": [
        "Complexity O(log(min))"
      ]
    },
    {
      "cell_type": "code",
      "execution_count": null,
      "metadata": {
        "id": "ndrS1_-oDsgN"
      },
      "outputs": [],
      "source": [
        "def gcd(a, b):\n",
        "    for i in range(min(a, b), 0, -1):\n",
        "        if a % i == 0 and b % i ==0:\n",
        "            return i"
      ]
    },
    {
      "cell_type": "code",
      "execution_count": null,
      "metadata": {
        "id": "gpgXZs7hDsgN",
        "outputId": "a16a2a42-1a85-4b15-fda2-cd805459e761"
      },
      "outputs": [
        {
          "data": {
            "text/plain": [
              "2"
            ]
          },
          "execution_count": 91,
          "metadata": {},
          "output_type": "execute_result"
        }
      ],
      "source": [
        "gcd(10, 4)"
      ]
    },
    {
      "cell_type": "code",
      "execution_count": null,
      "metadata": {
        "id": "BX6sbWfyDsgN"
      },
      "outputs": [],
      "source": [
        "Complexity O(min)"
      ]
    },
    {
      "cell_type": "code",
      "execution_count": null,
      "metadata": {
        "id": "Rd7YwnSuDsgO"
      },
      "outputs": [],
      "source": [
        ""
      ]
    },
    {
      "cell_type": "code",
      "execution_count": null,
      "metadata": {
        "id": "gtB_RhBvDsgO"
      },
      "outputs": [],
      "source": [
        "#############################################################################################"
      ]
    },
    {
      "cell_type": "markdown",
      "metadata": {
        "id": "S0e4uWrqDsgO"
      },
      "source": [
        "# Q 6 Common"
      ]
    },
    {
      "cell_type": "code",
      "execution_count": null,
      "metadata": {
        "id": "RKVqsOxyDsgO"
      },
      "outputs": [],
      "source": [
        "lst1 = [2, 5, 5, 5 ]\n",
        "lst2 = [2, 2, 3, 5, 5, 7]\n",
        "\n",
        "# output should be 2,5,5.\n",
        "\n",
        "# big o of n\n",
        "#maximum number of comparisons is n times\n"
      ]
    },
    {
      "cell_type": "code",
      "execution_count": null,
      "metadata": {
        "id": "C9EzbL9TDsgO",
        "outputId": "68e3bea4-1d88-4fe1-b009-17889ed3db57"
      },
      "outputs": [
        {
          "name": "stdout",
          "output_type": "stream",
          "text": [
            "2\n",
            "5\n",
            "5\n"
          ]
        }
      ],
      "source": [
        "freq = {}\n",
        "\n",
        "for i in lst1:\n",
        "    freq.setdefault(i,0)\n",
        "    freq[i] += 1\n",
        "    \n",
        "for i in lst2:\n",
        "    freq.setdefault(i,0)\n",
        "    if freq[i] > 0:\n",
        "        print(i)\n",
        "        freq[i] -= 1\n"
      ]
    },
    {
      "cell_type": "code",
      "execution_count": null,
      "metadata": {
        "id": "-bQqSrlvDsgO"
      },
      "outputs": [],
      "source": [
        ""
      ]
    },
    {
      "cell_type": "code",
      "execution_count": null,
      "metadata": {
        "id": "bY7hqZyEDsgP"
      },
      "outputs": [],
      "source": [
        "d = {'A':1,'B':2}"
      ]
    },
    {
      "cell_type": "code",
      "execution_count": null,
      "metadata": {
        "id": "3Nf53Sp5DsgP",
        "outputId": "ad6dea53-ee43-4c4f-8f10-f276afd806cd"
      },
      "outputs": [
        {
          "ename": "KeyError",
          "evalue": "'C'",
          "output_type": "error",
          "traceback": [
            "\u001b[1;31m---------------------------------------------------------------------------\u001b[0m",
            "\u001b[1;31mKeyError\u001b[0m                                  Traceback (most recent call last)",
            "\u001b[1;32m<ipython-input-35-f026ff1f8f6e>\u001b[0m in \u001b[0;36m<module>\u001b[1;34m\u001b[0m\n\u001b[1;32m----> 1\u001b[1;33m \u001b[0md\u001b[0m\u001b[1;33m[\u001b[0m\u001b[1;34m'C'\u001b[0m\u001b[1;33m]\u001b[0m\u001b[1;33m\u001b[0m\u001b[1;33m\u001b[0m\u001b[0m\n\u001b[0m",
            "\u001b[1;31mKeyError\u001b[0m: 'C'"
          ]
        }
      ],
      "source": [
        "d['C']"
      ]
    },
    {
      "cell_type": "code",
      "execution_count": null,
      "metadata": {
        "id": "QviCNeETDsgP",
        "outputId": "938de03f-1194-4353-fd47-1eb00c54c7d3"
      },
      "outputs": [
        {
          "data": {
            "text/plain": [
              "3"
            ]
          },
          "execution_count": 36,
          "metadata": {},
          "output_type": "execute_result"
        }
      ],
      "source": [
        "d.setdefault('C',3)"
      ]
    },
    {
      "cell_type": "code",
      "execution_count": null,
      "metadata": {
        "id": "qFCGwxo-DsgP",
        "outputId": "f68b9d8e-7e08-47be-dafa-3baddcf5ef53"
      },
      "outputs": [
        {
          "data": {
            "text/plain": [
              "{'A': 1, 'B': 2, 'C': 3}"
            ]
          },
          "execution_count": 37,
          "metadata": {},
          "output_type": "execute_result"
        }
      ],
      "source": [
        "d"
      ]
    },
    {
      "cell_type": "code",
      "execution_count": null,
      "metadata": {
        "id": "77MStAezDsgP"
      },
      "outputs": [],
      "source": [
        ""
      ]
    },
    {
      "cell_type": "code",
      "execution_count": null,
      "metadata": {
        "id": "nduZ3kcxDsgP"
      },
      "outputs": [],
      "source": [
        "#############################################################################################"
      ]
    },
    {
      "cell_type": "code",
      "execution_count": null,
      "metadata": {
        "id": "sEWGAMmVDsgQ",
        "outputId": "c2fa9d9a-b463-4c3c-dfd3-3d10ba61004a"
      },
      "outputs": [
        {
          "name": "stdout",
          "output_type": "stream",
          "text": [
            "1000.0\n"
          ]
        }
      ],
      "source": [
        "print(1e3)"
      ]
    },
    {
      "cell_type": "code",
      "execution_count": null,
      "metadata": {
        "id": "FBJbrc7JDsgQ"
      },
      "outputs": [],
      "source": [
        ""
      ]
    },
    {
      "cell_type": "code",
      "execution_count": null,
      "metadata": {
        "id": "rncN2a3TDsgQ"
      },
      "outputs": [],
      "source": [
        "Q4\n",
        "\n",
        "Ans: O(n1/2)"
      ]
    }
  ],
  "metadata": {
    "kernelspec": {
      "display_name": "Python 3",
      "language": "python",
      "name": "python3"
    },
    "language_info": {
      "codemirror_mode": {
        "name": "ipython",
        "version": 3
      },
      "file_extension": ".py",
      "mimetype": "text/x-python",
      "name": "python",
      "nbconvert_exporter": "python",
      "pygments_lexer": "ipython3",
      "version": "3.8.5"
    },
    "toc": {
      "base_numbering": 1,
      "nav_menu": {},
      "number_sections": true,
      "sideBar": true,
      "skip_h1_title": false,
      "title_cell": "Table of Contents",
      "title_sidebar": "Contents",
      "toc_cell": false,
      "toc_position": {},
      "toc_section_display": true,
      "toc_window_display": false
    },
    "colab": {
      "name": "Algorithms lab 1 Solution.ipynb",
      "provenance": []
    }
  },
  "nbformat": 4,
  "nbformat_minor": 0
}